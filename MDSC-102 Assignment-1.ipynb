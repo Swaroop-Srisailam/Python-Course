{
 "cells": [
  {
   "cell_type": "markdown",
   "id": "3841f3fa",
   "metadata": {},
   "source": [
    "## Name: Swaroop Srisailam\n",
    "### Regdno.: 22239"
   ]
  },
  {
   "cell_type": "markdown",
   "id": "0bb16e5c",
   "metadata": {},
   "source": [
    "f(x) = e^−x\n"
   ]
  },
  {
   "cell_type": "code",
   "execution_count": 22,
   "id": "0798660f",
   "metadata": {},
   "outputs": [
    {
     "name": "stdout",
     "output_type": "stream",
     "text": [
      "Expectation of the function is 1.00000000000000\n",
      "Variance of the function is 1.00000000000000\n"
     ]
    }
   ],
   "source": [
    "import math\n",
    "from sympy import *\n",
    "\"\"\"\n",
    "    Description: Program to compute expectation and variance, nth moment of f(x)=e^x\n",
    "    Author:Swaroop Srisailam\n",
    "\"\"\"\n",
    "def f(x):   #given function\n",
    "    return math.e**(-x)\n",
    "def E(x):    #expectation\n",
    "    x=Symbol('x') \n",
    "    return integrate(x*f(x), (x,0,oo))\n",
    "def E2(x):   #E(x^2)\n",
    "    x=Symbol('x') \n",
    "    return integrate((x**2)*f(x), (x,0,oo))\n",
    "\n",
    "def var(x):  #variance\n",
    "    return E2(x)- (E(x))**2\n",
    "\n",
    "def nth(x):    #nth Moment\n",
    "     x=Symbol('x') \n",
    "    return integrate((x**n)*f(x), (x,0,oo))\n",
    "\n",
    "x=Symbol('x') \n",
    "print(f\"Expectation of the function is {E(x)}\")\n",
    "print(f\"Variance of the function is {var(x)}\")"
   ]
  },
  {
   "cell_type": "markdown",
   "id": "28960e79",
   "metadata": {},
   "source": [
    " f(x) = 1/[π(1 + x^2)]"
   ]
  },
  {
   "cell_type": "code",
   "execution_count": 68,
   "id": "5b9b8364",
   "metadata": {},
   "outputs": [
    {
     "name": "stdout",
     "output_type": "stream",
     "text": [
      "Expectation of the function is nan\n",
      "Variance of the function is nan\n"
     ]
    }
   ],
   "source": [
    "import sympy as sy \n",
    "from scipy.integrate import quad\n",
    "\"\"\"\n",
    "    Description: Program to compute expectation and variance,nth moment of f(x) = 1/[π(1 + x^2)]\n",
    "    Author:Swaroop Srisailam\n",
    "\"\"\"\n",
    "def f(x):    #given function\n",
    "     return 1*(pi*(1+x**2))**-1\n",
    "\n",
    "def E(x):    #expectation \n",
    "    x=sy.Symbol('x') \n",
    "    return sy.integrate(x*f(x), (x,-oo,oo))\n",
    "def E2(x):   #e(x^2)\n",
    "    x=sy.Symbol('x') \n",
    "    return integrate((x**2)*f(x), (x,-oo,oo))\n",
    "\n",
    "def var(x):    #variance\n",
    "    return E2(x)- (E(x))**2\n",
    "\n",
    "def nth(x):    #nth Moment\n",
    "    x=Symbol('x') \n",
    "    return integrate((x**n)*f(x), (x,0,oo))\n",
    "\n",
    "x=sy.Symbol('x') \n",
    "print(f\"Expectation of the function is {E(x)}\")\n",
    "print(f\"Variance of the function is {var(x)}\")"
   ]
  },
  {
   "cell_type": "markdown",
   "id": "8c7dd3ed",
   "metadata": {},
   "source": [
    " f(x) = xe^-x"
   ]
  },
  {
   "cell_type": "code",
   "execution_count": 73,
   "id": "c157c145",
   "metadata": {},
   "outputs": [
    {
     "name": "stdout",
     "output_type": "stream",
     "text": [
      "Expectation of the function is 2.00000000000000\n",
      "Variance of the function is 2.00000000000000\n"
     ]
    }
   ],
   "source": [
    "import math\n",
    "from sympy import *\n",
    "\"\"\"\n",
    "    Description: Program to compute expectation and variance, nth moment of f(x)=xe^x\n",
    "    Author:Swaroop Srisailam\n",
    "\"\"\"\n",
    "def f(x):      #function to compute\n",
    "    return x*math.e**(-x)\n",
    "def E(x):     #expectation \n",
    "    x=Symbol('x') \n",
    "    return integrate(x*f(x), (x,0,oo))\n",
    "def E2(x):    #e(x^2)\n",
    "    x=Symbol('x') \n",
    "    return integrate((x**2)*f(x), (x,0,oo))\n",
    "\n",
    "def var(x):   #Variance\n",
    "    v=E2(x)- ((E(x))**2)\n",
    "    return v\n",
    "\n",
    "def nth(n):  #nth Moment\n",
    "    return integrate(lambda x:(x**n)*exp(-x),(x,0,oo))\n",
    "\n",
    "\n",
    "x=Symbol('x') \n",
    "print(f\"Expectation of the function is {E(x)}\")\n",
    "print(f\"Variance of the function is {var(x)}\")\n"
   ]
  },
  {
   "cell_type": "markdown",
   "id": "3db5d11b",
   "metadata": {},
   "source": [
    " f(x) = p(1 − p)**x−1\n"
   ]
  },
  {
   "cell_type": "code",
   "execution_count": 69,
   "id": "3bdfd0e2",
   "metadata": {},
   "outputs": [
    {
     "name": "stdout",
     "output_type": "stream",
     "text": [
      "The Expectation is 3.33333333333333\n",
      "The Variance is 15.5555555555555\n"
     ]
    }
   ],
   "source": [
    "import numpy as np\n",
    "import mpmath as mp\n",
    "\"\"\"\n",
    "    Description: Program to compute expectation and variance,nth moment of f(x) = p(1 − p)**x−1\n",
    "    Author:Swaroop Srisailam\n",
    "\"\"\"\n",
    "def E(p):  #expectation \n",
    "    return mp.nsum(lambda x :x*p*((1-p)**(x-1)) , [0 , mp.inf])\n",
    "def E2(p):   #E(X^2)\n",
    "    return mp.nsum(lambda x :x**2*p*((1-p)**(x-1)) , [0 , mp.inf])\n",
    "def var(p):   #Variance\n",
    "    return E2(p) - E(p)\n",
    "def En(p):  #nth Moment \n",
    "    n = int(input(\"Give the value for n :\"))\n",
    "    return mp.nsum(lambda x :x**n*p*((1-p)**(x-1)) , [0 , mp.inf])\n",
    "\n",
    "p=0.3\n",
    "print(f\"The Expectation is {E(p)}\")\n",
    "print(f\"The Variance is {var(p)}\")\n"
   ]
  },
  {
   "cell_type": "code",
   "execution_count": null,
   "id": "b4bdc498",
   "metadata": {},
   "outputs": [],
   "source": []
  }
 ],
 "metadata": {
  "kernelspec": {
   "display_name": "Python 3 (ipykernel)",
   "language": "python",
   "name": "python3"
  },
  "language_info": {
   "codemirror_mode": {
    "name": "ipython",
    "version": 3
   },
   "file_extension": ".py",
   "mimetype": "text/x-python",
   "name": "python",
   "nbconvert_exporter": "python",
   "pygments_lexer": "ipython3",
   "version": "3.9.13"
  }
 },
 "nbformat": 4,
 "nbformat_minor": 5
}
