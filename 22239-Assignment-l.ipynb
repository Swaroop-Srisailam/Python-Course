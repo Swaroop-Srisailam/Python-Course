{
 "cells": [
  {
   "cell_type": "markdown",
   "id": "597055cd",
   "metadata": {},
   "source": [
    "# ASSIGNMENT-1\n",
    "### Name: S. Sai Swaroop\n",
    "### Roll number: 22239"
   ]
  },
  {
   "cell_type": "markdown",
   "id": "d4af338a",
   "metadata": {},
   "source": [
    "Write a program to compute the real roots of the equation 𝑎𝑥2+𝑏𝑥+𝑐."
   ]
  },
  {
   "cell_type": "code",
   "execution_count": 4,
   "id": "c939e4c5",
   "metadata": {},
   "outputs": [
    {
     "name": "stdout",
     "output_type": "stream",
     "text": [
      "Program to compute the real roots of the equation 𝑎𝑥2+𝑏𝑥+𝑐.\n",
      "Enter 'a':2\n",
      "Enter 'b':4\n",
      "Enter 'c':8\n",
      "The roots are complex and They are c1 =(-1+1.7320508075688772j) and c2 = (-1-1.7320508075688772j)\n"
     ]
    }
   ],
   "source": [
    "import math \n",
    "def FindRoots(a,b,c):\n",
    "    \"\"\"\n",
    "    Description: Function to find the roots of a given quadratic equation\n",
    "     Args:\n",
    "        a ([type]): [float or int]\n",
    "        b ([type]): [float or int]\n",
    "        c ([type]): [float or int]\n",
    "    Author: Swaroop Srisailam.\n",
    "    Date:4/08/2022\n",
    "    \"\"\"\n",
    "    d= b**2 -4*a*c #discreminant\n",
    "    if d >=0:   #if Discreminant is greater or equal to 0, then roots are real\n",
    "        x1 = (-b + math.sqrt(d))/(2*a)\n",
    "        x2 = (-b - math.sqrt(d))/(2*a)\n",
    "        print(f'The roots are real and the roots are r1 = {x1} and r2 = {x2}')\n",
    "    else: #roots are complex\n",
    "        c1 = complex(-b/(2*a),math.sqrt(-d)/(2*a))\n",
    "        c2 = complex(-b/(2*a),-math.sqrt(-d)/(2*a))\n",
    "        print(f'The roots are complex and They are c1 ={c1} and c2 = {c2}')\n",
    "        \n",
    "#user input\n",
    "print(\"Program to compute the real roots of the equation 𝑎𝑥2+𝑏𝑥+𝑐.\")\n",
    "a=float(input(\"Enter 'a':\"))\n",
    "b=float(input(\"Enter 'b':\"))\n",
    "c=float(input(\"Enter 'c':\"))\n",
    "FindRoots(a,b,c) #calling Function\n",
    "    "
   ]
  },
  {
   "cell_type": "markdown",
   "id": "0f5bee69",
   "metadata": {},
   "source": [
    "Q2. Write a program to compute the probability 𝑃(𝑋=𝑥), where 𝑋∼𝐵𝑖𝑛(𝑛=10,𝑝=0.2)"
   ]
  },
  {
   "cell_type": "code",
   "execution_count": 34,
   "id": "6bcbf1b5",
   "metadata": {},
   "outputs": [
    {
     "name": "stdout",
     "output_type": "stream",
     "text": [
      "the probability 𝑃(𝑋=𝑥), where 𝑋∼𝐵𝑖𝑛(𝑛=10,𝑝=0.2) is 0.02642411520000001\n",
      "Do you want to enter your parameters? type 'yes' else 'no'yes\n",
      "Enter number of successes[x]:0\n",
      "Enter number of trials[n]:10\n",
      "Enter the probability of success on individual trial[p]:0.5\n",
      "The probability 𝑃(𝑋=𝑥) is 0.0009765625\n"
     ]
    }
   ],
   "source": [
    "# import math\n",
    "def Bi_distribution(x, n, p):\n",
    "    \"\"\"\n",
    "    Description: function to calculate probability using binomial distribution.\n",
    "    Args:\n",
    "        x ([type]): [int]\n",
    "        n ([type]): [int]\n",
    "        p ([type]): [float or int]- prob\n",
    "    returns: b([type])-[float or int]\n",
    "    Author:Swaroop Srisailam.\n",
    "    Date:4/08/2022\n",
    "    \"\"\"\n",
    "    if x>n:\n",
    "        return 0\n",
    "    elif p>1 or p<0:\n",
    "            return \"p is Wrong value...Probability cant be more than one or less than 0..\"\n",
    "    else:\n",
    "        comb=(math.factorial(n)/(math.factorial(x)*math.factorial(n-x)))\n",
    "        b = comb*(p**x)*((1-p)**(n-x)) #combination of p^x(1-p)^n-x\n",
    "        return(b)\n",
    "#given problem to compute\n",
    "print(f\"the probability 𝑃(𝑋=𝑥), where 𝑋∼𝐵𝑖𝑛(𝑛=10,𝑝=0.2) is {Bi_distribution(5,10,0.2)}\")\n",
    "\n",
    "#User Input\n",
    "b=input(\"Do you want to enter your parameters? type 'yes' else 'no'\")\n",
    "if b == 'yes':\n",
    "    x=int(input(\"Enter number of successes[x]:\"))\n",
    "    n=int(input(\"Enter number of trials[n]:\"))\n",
    "    p=float(input(\"Enter the probability of success on individual trial[p]:\"))\n",
    "    print(f\"The probability 𝑃(𝑋=𝑥) is {Bi_distribution(x,n,p)}\") #calling function\n",
    "else:\n",
    "    print(\"the end\")"
   ]
  },
  {
   "cell_type": "markdown",
   "id": "6daf6c62",
   "metadata": {},
   "source": [
    "Q3. Lets say you are running a 5 km race. Write a program that,\n",
    "\n",
    "Upon completing each 1 km asks you \"are you tired?\"\n",
    "\n",
    "If you reply \"yes\" then it should break and print \"you didn't finish the race\"\n",
    "\n",
    "If you reply \"no\" then it should continue and ask \"are you tired\" on every km\n",
    "\n",
    "If you finish all 5 km then it should print congratulations message\n"
   ]
  },
  {
   "cell_type": "code",
   "execution_count": 3,
   "id": "23ab75d4",
   "metadata": {},
   "outputs": [
    {
     "name": "stdout",
     "output_type": "stream",
     "text": [
      "Are you tired yes\n",
      "you didn't finish the race\n"
     ]
    }
   ],
   "source": [
    "def race():\n",
    "    \"\"\"\n",
    "    Description: Function to ask if your tired during run in every km, if yes it will break\n",
    "                 and print \"you didnt finish the race\".\n",
    "    Args:\n",
    "        Not required\n",
    "    Author:Swaroop Srisailam\n",
    "    Date:5/08/2022\n",
    "    \"\"\"\n",
    "    for x in range(4): \n",
    "        s= input(\"Are you tired \" )\n",
    "        if s ==\"yes\":\n",
    "            print(\"you didn't finish the race\")\n",
    "            break\n",
    "        if x == 3:\n",
    "            print(\"Congratulations\")\n",
    "                \n",
    "race() # calling out the race function"
   ]
  },
  {
   "cell_type": "markdown",
   "id": "f996daca",
   "metadata": {},
   "source": [
    "Q4. Write a function tip_calc(bill, party), where bill is the total cost of a meal and party is the number of people in the group. The tip should be calculated as 15% for a party strictly less than six people, 18% for a party strictly less than eight, 20% for a party less than 11, and 25% for a party 11 or more. A couple of test cases are given below."
   ]
  },
  {
   "cell_type": "code",
   "execution_count": 1,
   "id": "3db9becb",
   "metadata": {},
   "outputs": [
    {
     "name": "stdout",
     "output_type": "stream",
     "text": [
      "Enter the cost of the meal:100\n",
      "Enter the Number of people in the group:27\n",
      "The tip is 25.0\n"
     ]
    }
   ],
   "source": [
    "def tip_calc(bill,party):\n",
    "    \"\"\"\n",
    "    Description: Function to calculate tip according to the conditions\n",
    "    Args:\n",
    "       bill ([type]): [float or int]- Cost of the meal\n",
    "       party ([type]): [float or int]-Number of people in the group\n",
    "    Author: Swaroop Srisailam\n",
    "    Date:5/08/2022\n",
    "    \"\"\"\n",
    "    tip=0\n",
    "    if party < 6:\n",
    "        tip=(15/100) *bill\n",
    "    elif party < 8:\n",
    "        tip=(18/100)* bill\n",
    "    elif party < 11:\n",
    "         tip=(20/100)* bill\n",
    "    elif party >= 11:\n",
    "         tip=(25/100)* bill\n",
    "    print(f\"The tip is {tip}\")\n",
    "    \n",
    "#taking input from User\n",
    "a=int(input(\"Enter the cost of the meal:\"))\n",
    "b=int(input(\"Enter the Number of people in the group:\"))\n",
    "tip_calc(a,b) #calling the function"
   ]
  },
  {
   "cell_type": "markdown",
   "id": "4f992264",
   "metadata": {},
   "source": [
    "Q5. Write a function mult_operation(a,b,operation). The input argument, operation, is a string that is either 'plus', 'minus', 'mult', 'div', or 'pow', and the function should compute: a+b, a−b, a∗b, a/b, and ab for the respective values for operation. A couple of test cases are given below."
   ]
  },
  {
   "cell_type": "code",
   "execution_count": 2,
   "id": "356b0422",
   "metadata": {},
   "outputs": [
    {
     "name": "stdout",
     "output_type": "stream",
     "text": [
      "Enter the first number:2\n",
      "Enter the second number:3\n",
      "Enter the operation like  either'plus', 'minus', 'mult', 'div', or 'pow':minus\n"
     ]
    },
    {
     "data": {
      "text/plain": [
       "-1"
      ]
     },
     "execution_count": 2,
     "metadata": {},
     "output_type": "execute_result"
    }
   ],
   "source": [
    "def mult_operation(a,b,operation):\n",
    "    \"\"\"\n",
    "    Description: Function to calculate two numbers according to the given operation in parameter.\n",
    "    Args:\n",
    "        a ([type]): [float or int]\n",
    "        b ([type]): [float or int]\n",
    "        operation ([type]): [string]\n",
    "    returns: [float or int] \n",
    "    Author: Swaroop Srisailam\n",
    "    Date:5/08/2022 \n",
    "    \"\"\"\n",
    "    if operation =='plus': # addition\n",
    "        return a+b\n",
    "    elif operation == 'minus':  #Subtraction\n",
    "         return a-b\n",
    "    elif operation == 'mult':  #multiplication\n",
    "         return a*b\n",
    "    elif operation == 'div':  #division\n",
    "         return a/b\n",
    "    elif operation == 'pow':  #power\n",
    "         return a**b\n",
    "        \n",
    "#input from user\n",
    "a= int(input(\"Enter the first number:\"))\n",
    "b= int(input(\"Enter the second number:\"))\n",
    "o= input(\"Enter the operation like  either'plus', 'minus', 'mult', 'div', or 'pow':\")\n",
    "mult_operation(a,b,o) #calling the function"
   ]
  },
  {
   "cell_type": "markdown",
   "id": "18530ae0",
   "metadata": {},
   "source": [
    "Q6. Consider a triangle with vertices at (0,0), (1,0), and (0,1). Write a function inside_triangle(x,y) where the output is the string ‘outside’ if the point (x,y) is outside of the triangle, ‘border’ if the point is exactly on the border of the triangle, and ‘inside’ if the point is on the inside of the triangle."
   ]
  },
  {
   "cell_type": "code",
   "execution_count": 5,
   "id": "876c0bcb",
   "metadata": {},
   "outputs": [
    {
     "name": "stdout",
     "output_type": "stream",
     "text": [
      "Enter the x coordinate:0\n",
      "Enter the y coordinate:0\n",
      "The given point lies  on border\n"
     ]
    }
   ],
   "source": [
    "def inside_triangle(x,y):\n",
    "    \"\"\"\n",
    "    Description: Function that computes whether the points(x,y) are inside or\n",
    "                 ouside or border of a triangle with vertices at (0,0), (1,0), and (0,1)\n",
    "    Args:\n",
    "        x([type]):[float or int]\n",
    "        y([type]):[float or int]\n",
    "    Author: Swaroop Srisailam\n",
    "    Date:5/08/2022\n",
    "    \"\"\"\n",
    "    p=x+y\n",
    "    if p<0 or p>1:   #outside the triangle\n",
    "        return \"Outside\"\n",
    "    elif p==0 or p ==1 or (x==0 and y<=1 or y ==0 and x<=1):   #on the border\n",
    "        return \" on border\"\n",
    "    else:\n",
    "        return \"inside\"\n",
    "        \n",
    "#input from user\n",
    "a= float(input(\"Enter the x coordinate:\"))\n",
    "b= float(input(\"Enter the y coordinate:\"))\n",
    "print(f\"The given point lies {inside_triangle(a,b)}\")  #calling the inside_triangle Function"
   ]
  },
  {
   "cell_type": "markdown",
   "id": "2bd32316",
   "metadata": {},
   "source": [
    "Q7. Write a function letter_grader(percent), where grade is the string ‘O’ if percent is greater than 80, ‘A’ if percent is greater than 70, ‘B‘ if percent is greater than 60, ‘C’ if percent is greater than 40, and ‘F’ if percent is less than 40. Grades exactly on the division should be included in the higher grade category."
   ]
  },
  {
   "cell_type": "code",
   "execution_count": 2,
   "id": "2d696f82",
   "metadata": {},
   "outputs": [
    {
     "name": "stdout",
     "output_type": "stream",
     "text": [
      "Enter your percentage:90.2\n",
      "O\n"
     ]
    }
   ],
   "source": [
    "def letter_grader(percent):\n",
    "    \"\"\"\n",
    "    Description: Function to compute grades of a student with thier percentage.\n",
    "    Args:\n",
    "        percent([type]): [float or int]\n",
    "    Author: Swaroop Srisailam\n",
    "    Date:5/08/2022 \n",
    "    \"\"\"\n",
    "    if percent >= 80:\n",
    "        print(\"O\")\n",
    "    elif percent >=70:\n",
    "        print(\"A\")\n",
    "    elif percent >=60:\n",
    "        print(\"B\")\n",
    "    elif percent >=40:\n",
    "        print(\"C\")\n",
    "    else: \n",
    "        print(\"F\")\n",
    "\n",
    "#input from user\n",
    "a= float(input(\"Enter your percentage:\"))\n",
    "letter_grader(a)"
   ]
  },
  {
   "cell_type": "markdown",
   "id": "37e46f51",
   "metadata": {},
   "source": [
    "Q8. Consider a nuclear reactor whose temperature is monitored by three sensors. An alarm should go off if any two of the sensor readings disagree. Write a function nuke_alarm(s1,s2,s3) where s1, s2, and s3 are the temperature readings for sensor 1, sensor 2, and sensor 3, respectively. The output should be the string ‘alarm!’ if any two of the temperature readings disagree by strictly more than 10 degrees and ‘normal’ otherwise."
   ]
  },
  {
   "cell_type": "code",
   "execution_count": 10,
   "id": "37ace769",
   "metadata": {},
   "outputs": [
    {
     "name": "stdout",
     "output_type": "stream",
     "text": [
      "alarm!!\n"
     ]
    }
   ],
   "source": [
    "def nuke_alarm(s1,s2,s3):\n",
    "    \"\"\"\n",
    "    Description: Function to alert if any two sensor's temperature reading\n",
    "                 disagree by morethan 10 degrees\n",
    "     Args:\n",
    "        s1 ([type]): [float or int]\n",
    "        s2 ([type]): [float or int]\n",
    "        s3 ([type]): [float or int]\n",
    "    Author: Swaroop Srisailam\n",
    "    Date:6/08/2022 \n",
    "    \"\"\"\n",
    "    if(s1-s2 or s1-s3 or s2-s1 or s2-s3 or s3-s1 or s3-s2 >10):\n",
    "        print(\"alarm!!\")\n",
    "    else:\n",
    "        print(\"normal\")\n",
    "        \n",
    "nuke_alarm(1,2,9) #calling the function"
   ]
  },
  {
   "cell_type": "markdown",
   "id": "3f93582c",
   "metadata": {},
   "source": [
    "Q9. Write a function n_odds(x), where 𝑥 is a one-dimensional array of floats and the output is the number of odd numbers in 𝑥."
   ]
  },
  {
   "cell_type": "code",
   "execution_count": 15,
   "id": "57347c44",
   "metadata": {},
   "outputs": [
    {
     "name": "stdout",
     "output_type": "stream",
     "text": [
      "Enter number of elements : 5\n",
      "1.3\n",
      "2.3\n",
      "4.4\n",
      "5.6\n",
      "6.6\n",
      "Total number of odd numbers: 2\n"
     ]
    }
   ],
   "source": [
    "def n_odds(x):\n",
    "    \"\"\"\n",
    "    Description: Function to count number of odd numbers in a list.\n",
    "    Args:\n",
    "        a ([type]): [float or int] [list]\n",
    "    Returns: c([type]):[int] - the number of odd numbers in x.\n",
    "    Author: Swaroop Srisailam\n",
    "    Date:6/08/2022  \n",
    "    \"\"\"\n",
    "    l=len(x) #l contains length of the list\n",
    "    c=0\n",
    "    for i in range(l):\n",
    "        if int(x[i])%2!=0:\n",
    "            c=c+1       #increments when element contains odd number\n",
    "        else:\n",
    "            continue\n",
    "    return c    #c contains number of odd number\n",
    "\n",
    "#User Input\n",
    "l = []\n",
    "n = int(input(\"Enter number of elements : \"))# number of elements as input\n",
    "for i in range(0, n):\n",
    "    element = float(input())\n",
    "    l.append(element) # adding the element\n",
    "a=n_odds(l)\n",
    "print(f\"Total number of odd numbers: {a}\")"
   ]
  },
  {
   "cell_type": "markdown",
   "id": "cf4a78d0",
   "metadata": {},
   "source": [
    "Q10. Write a function vol_cylinder(r,h), where 𝑟 and ℎ are the radius and height of a cylinder, respectively, and the output is a list [𝑠,𝑣] where 𝑠 and 𝑣 are the surface area and volume of the same cylinder, respectively. Recall that the surface area of a cylinder is 2π𝑟2+2π𝑟ℎ, and the volume is π𝑟2ℎ. Assume that 𝑟 and ℎ are 1 by 1 float."
   ]
  },
  {
   "cell_type": "code",
   "execution_count": 16,
   "id": "6f8a40de",
   "metadata": {},
   "outputs": [
    {
     "name": "stdout",
     "output_type": "stream",
     "text": [
      "Enter the radius of the cylinder :2\n",
      "Enter the height of the cylinder :3\n",
      "The surface area of the cylinder is 62.8\n",
      "The volume of the cylinder is 37.68\n"
     ]
    }
   ],
   "source": [
    "def vol_cylinder(r,h):\n",
    "    \"\"\"\n",
    "    Description: Function to calculate volume and surface area of given cylinder.\n",
    "    Args:\n",
    "        r([type]): [float or int] -radius of a cylinder.\n",
    "        h([type]): [float or int] -height of a cylinder.\n",
    "    returns: list[surface_area,volume]\n",
    "    Author: Swaroop Srisailam\n",
    "    Date:6/08/2022 \n",
    "    \"\"\"\n",
    "    surface_area=2*3.14*(r**2)+2*3.14*r*h #finding surface area\n",
    "    volume =3.14*(r**2)*h    #finding volume\n",
    "    return surface_area,volume\n",
    "\n",
    "#input from user\n",
    "a= float(input(\"Enter the radius of the cylinder :\"))\n",
    "b= float(input(\"Enter the height of the cylinder :\"))\n",
    "l=list(vol_cylinder(a,b)) #calling function\n",
    "print(f\"The surface area of the cylinder is {l[0]}\") #printing surface area\n",
    "print(f\"The volume of the cylinder is {l[1]}\")       #printing volume"
   ]
  },
  {
   "cell_type": "markdown",
   "id": "d133b1de",
   "metadata": {},
   "source": [
    "## --THE END--"
   ]
  }
 ],
 "metadata": {
  "kernelspec": {
   "display_name": "Python 3 (ipykernel)",
   "language": "python",
   "name": "python3"
  },
  "language_info": {
   "codemirror_mode": {
    "name": "ipython",
    "version": 3
   },
   "file_extension": ".py",
   "mimetype": "text/x-python",
   "name": "python",
   "nbconvert_exporter": "python",
   "pygments_lexer": "ipython3",
   "version": "3.9.13"
  }
 },
 "nbformat": 4,
 "nbformat_minor": 5
}
